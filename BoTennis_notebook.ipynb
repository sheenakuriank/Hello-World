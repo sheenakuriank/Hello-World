{
  "nbformat": 4,
  "nbformat_minor": 0,
  "metadata": {
    "kernelspec": {
      "display_name": "nlp_kernel",
      "language": "python",
      "name": "nlp_kernel"
    },
    "language_info": {
      "codemirror_mode": {
        "name": "ipython",
        "version": 3
      },
      "file_extension": ".py",
      "mimetype": "text/x-python",
      "name": "python",
      "nbconvert_exporter": "python",
      "pygments_lexer": "ipython3",
      "version": "3.7.7"
    },
    "colab": {
      "name": "BoTennis notebook.ipynb",
      "provenance": [],
      "toc_visible": true
    }
  },
  "cells": [
    {
      "cell_type": "code",
      "metadata": {
        "id": "nUKnArWhOL7v"
      },
      "source": [
        "import pandas as pd \n",
        "import numpy as np \n",
        "import matplotlib.pyplot as plt\n",
        "from pathlib import Path\n",
        "import string\n",
        "import re\n",
        "import joblib\n",
        "import json\n",
        "from collections import Counter\n",
        "import nltk\n",
        "from nltk.corpus import stopwords\n",
        "from nltk.stem import WordNetLemmatizer\n",
        "\n",
        "from tensorflow.keras.preprocessing.text import Tokenizer\n",
        "from tensorflow.keras.preprocessing.sequence import pad_sequences\n",
        "from tensorflow.keras.utils import plot_model\n",
        "from tensorflow.keras.models import Sequential\n",
        "from tensorflow.keras.layers import Embedding, Dense, Flatten\n",
        "from tensorflow.keras.layers import Conv1D\n",
        "from tensorflow.keras.layers import MaxPooling1D\n",
        "from tensorflow.keras.callbacks import ModelCheckpoint, EarlyStopping, ReduceLROnPlateau"
      ],
      "execution_count": 1,
      "outputs": []
    },
    {
      "cell_type": "code",
      "metadata": {
        "id": "1GtWQIinOL77",
        "colab": {
          "base_uri": "https://localhost:8080/"
        },
        "outputId": "04a8d032-8faf-486f-fe6c-5ec8bb700ae4"
      },
      "source": [
        "nltk.download('wordnet')"
      ],
      "execution_count": 19,
      "outputs": [
        {
          "output_type": "stream",
          "text": [
            "[nltk_data] Downloading package wordnet to /root/nltk_data...\n",
            "[nltk_data]   Unzipping corpora/wordnet.zip.\n"
          ],
          "name": "stdout"
        },
        {
          "output_type": "execute_result",
          "data": {
            "text/plain": [
              "True"
            ]
          },
          "metadata": {
            "tags": []
          },
          "execution_count": 19
        }
      ]
    },
    {
      "cell_type": "code",
      "metadata": {
        "colab": {
          "base_uri": "https://localhost:8080/"
        },
        "id": "9nwPfu4xSkO7",
        "outputId": "bda592ff-25a4-4584-ac8c-a3a59243c866"
      },
      "source": [
        "from google.colab import drive\n",
        "drive.mount('/content/drive')"
      ],
      "execution_count": 9,
      "outputs": [
        {
          "output_type": "stream",
          "text": [
            "Mounted at /content/drive\n"
          ],
          "name": "stdout"
        }
      ]
    },
    {
      "cell_type": "code",
      "metadata": {
        "id": "iozjRVqEOL78"
      },
      "source": [
        "def load_doc(jsonFile):\n",
        "    with open(jsonFile) as file:\n",
        "        Json_data = json.loads(file.read())\n",
        "    return Json_data"
      ],
      "execution_count": 2,
      "outputs": []
    },
    {
      "cell_type": "code",
      "metadata": {
        "id": "qKWGiBOaOL79"
      },
      "source": [
        "data = load_doc('/content/drive/My Drive/Colab Notebooks/chatbots/intents.json')"
      ],
      "execution_count": 10,
      "outputs": []
    },
    {
      "cell_type": "code",
      "metadata": {
        "id": "8dRRaTYDSa8T"
      },
      "source": [
        ""
      ],
      "execution_count": null,
      "outputs": []
    },
    {
      "cell_type": "code",
      "metadata": {
        "id": "h5MaGzh2OL79"
      },
      "source": [
        "def frame_data(feat_1,feat_2,is_pattern):\n",
        "    is_pattern = is_pattern\n",
        "    df = pd.DataFrame(columns=[feat_1,feat_2])\n",
        "    for intent in data['intents']:\n",
        "        if is_pattern:\n",
        "            for pattern in intent['patterns']:\n",
        "                w = pattern\n",
        "                df_to_append = pd.Series([w,intent['tag']], index = df.columns)\n",
        "                df = df.append(df_to_append,ignore_index=True)\n",
        "        else:\n",
        "            for response in intent['responses']:\n",
        "                w = response\n",
        "                df_to_append = pd.Series([w,intent['tag']], index = df.columns)\n",
        "                df = df.append(df_to_append,ignore_index=True)\n",
        "    return df"
      ],
      "execution_count": 11,
      "outputs": []
    },
    {
      "cell_type": "code",
      "metadata": {
        "id": "lR2T9DG-OL7-",
        "colab": {
          "base_uri": "https://localhost:8080/",
          "height": 406
        },
        "outputId": "ece20ee5-3c3a-41a5-e1b8-b49525c1f2d6"
      },
      "source": [
        "# users intents \n",
        "df1 = frame_data('questions','labels',True)\n",
        "df1"
      ],
      "execution_count": 12,
      "outputs": [
        {
          "output_type": "execute_result",
          "data": {
            "text/html": [
              "<div>\n",
              "<style scoped>\n",
              "    .dataframe tbody tr th:only-of-type {\n",
              "        vertical-align: middle;\n",
              "    }\n",
              "\n",
              "    .dataframe tbody tr th {\n",
              "        vertical-align: top;\n",
              "    }\n",
              "\n",
              "    .dataframe thead th {\n",
              "        text-align: right;\n",
              "    }\n",
              "</style>\n",
              "<table border=\"1\" class=\"dataframe\">\n",
              "  <thead>\n",
              "    <tr style=\"text-align: right;\">\n",
              "      <th></th>\n",
              "      <th>questions</th>\n",
              "      <th>labels</th>\n",
              "    </tr>\n",
              "  </thead>\n",
              "  <tbody>\n",
              "    <tr>\n",
              "      <th>0</th>\n",
              "      <td>Hi there</td>\n",
              "      <td>start_conversation</td>\n",
              "    </tr>\n",
              "    <tr>\n",
              "      <th>1</th>\n",
              "      <td>Is anyone there?</td>\n",
              "      <td>start_conversation</td>\n",
              "    </tr>\n",
              "    <tr>\n",
              "      <th>2</th>\n",
              "      <td>Hey</td>\n",
              "      <td>start_conversation</td>\n",
              "    </tr>\n",
              "    <tr>\n",
              "      <th>3</th>\n",
              "      <td>Hola</td>\n",
              "      <td>start_conversation</td>\n",
              "    </tr>\n",
              "    <tr>\n",
              "      <th>4</th>\n",
              "      <td>Hello</td>\n",
              "      <td>start_conversation</td>\n",
              "    </tr>\n",
              "    <tr>\n",
              "      <th>...</th>\n",
              "      <td>...</td>\n",
              "      <td>...</td>\n",
              "    </tr>\n",
              "    <tr>\n",
              "      <th>82</th>\n",
              "      <td>What are the match formats in tennis</td>\n",
              "      <td>match_format</td>\n",
              "    </tr>\n",
              "    <tr>\n",
              "      <th>83</th>\n",
              "      <td>Do we just keep playing till we get tired</td>\n",
              "      <td>match_format</td>\n",
              "    </tr>\n",
              "    <tr>\n",
              "      <th>84</th>\n",
              "      <td>How many match sets are there in tennis</td>\n",
              "      <td>match_format</td>\n",
              "    </tr>\n",
              "    <tr>\n",
              "      <th>85</th>\n",
              "      <td>When do we stop playing?</td>\n",
              "      <td>match_format</td>\n",
              "    </tr>\n",
              "    <tr>\n",
              "      <th>86</th>\n",
              "      <td>How many set can be played?</td>\n",
              "      <td>match_format</td>\n",
              "    </tr>\n",
              "  </tbody>\n",
              "</table>\n",
              "<p>87 rows × 2 columns</p>\n",
              "</div>"
            ],
            "text/plain": [
              "                                    questions              labels\n",
              "0                                    Hi there  start_conversation\n",
              "1                            Is anyone there?  start_conversation\n",
              "2                                         Hey  start_conversation\n",
              "3                                        Hola  start_conversation\n",
              "4                                       Hello  start_conversation\n",
              "..                                        ...                 ...\n",
              "82       What are the match formats in tennis        match_format\n",
              "83  Do we just keep playing till we get tired        match_format\n",
              "84    How many match sets are there in tennis        match_format\n",
              "85                   When do we stop playing?        match_format\n",
              "86                How many set can be played?        match_format\n",
              "\n",
              "[87 rows x 2 columns]"
            ]
          },
          "metadata": {
            "tags": []
          },
          "execution_count": 12
        }
      ]
    },
    {
      "cell_type": "code",
      "metadata": {
        "id": "UecpFcytOL7_",
        "colab": {
          "base_uri": "https://localhost:8080/"
        },
        "outputId": "e26639fd-0426-4b0d-9851-9230ce905067"
      },
      "source": [
        "df1.labels.value_counts(sort=False)"
      ],
      "execution_count": 13,
      "outputs": [
        {
          "output_type": "execute_result",
          "data": {
            "text/plain": [
              "options                8\n",
              "match_format           5\n",
              "tennis_games           4\n",
              "court_lines            3\n",
              "bot_scope              5\n",
              "start_conversation     7\n",
              "first_server           4\n",
              "kits                  10\n",
              "thanks                 5\n",
              "tie_break              5\n",
              "serving_rules          6\n",
              "end_conversation       5\n",
              "top_players            6\n",
              "general_rules          5\n",
              "what_are_you           4\n",
              "scoring                5\n",
              "Name: labels, dtype: int64"
            ]
          },
          "metadata": {
            "tags": []
          },
          "execution_count": 13
        }
      ]
    },
    {
      "cell_type": "code",
      "metadata": {
        "id": "YUcHL9LaOL8A",
        "colab": {
          "base_uri": "https://localhost:8080/",
          "height": 197
        },
        "outputId": "aaeee4d1-95cb-4134-b63b-7efd96c72c31"
      },
      "source": [
        "# Bot response\n",
        "df2 = frame_data('response','labels',False)\n",
        "df2.head()"
      ],
      "execution_count": 14,
      "outputs": [
        {
          "output_type": "execute_result",
          "data": {
            "text/html": [
              "<div>\n",
              "<style scoped>\n",
              "    .dataframe tbody tr th:only-of-type {\n",
              "        vertical-align: middle;\n",
              "    }\n",
              "\n",
              "    .dataframe tbody tr th {\n",
              "        vertical-align: top;\n",
              "    }\n",
              "\n",
              "    .dataframe thead th {\n",
              "        text-align: right;\n",
              "    }\n",
              "</style>\n",
              "<table border=\"1\" class=\"dataframe\">\n",
              "  <thead>\n",
              "    <tr style=\"text-align: right;\">\n",
              "      <th></th>\n",
              "      <th>response</th>\n",
              "      <th>labels</th>\n",
              "    </tr>\n",
              "  </thead>\n",
              "  <tbody>\n",
              "    <tr>\n",
              "      <th>0</th>\n",
              "      <td>Hello, I'm sure you love tennis</td>\n",
              "      <td>start_conversation</td>\n",
              "    </tr>\n",
              "    <tr>\n",
              "      <th>1</th>\n",
              "      <td>Happy to have you here</td>\n",
              "      <td>start_conversation</td>\n",
              "    </tr>\n",
              "    <tr>\n",
              "      <th>2</th>\n",
              "      <td>Good to see you again</td>\n",
              "      <td>start_conversation</td>\n",
              "    </tr>\n",
              "    <tr>\n",
              "      <th>3</th>\n",
              "      <td>Hi there, how can I help?</td>\n",
              "      <td>start_conversation</td>\n",
              "    </tr>\n",
              "    <tr>\n",
              "      <th>4</th>\n",
              "      <td>Hi, I'm  BoTennis</td>\n",
              "      <td>what_are_you</td>\n",
              "    </tr>\n",
              "  </tbody>\n",
              "</table>\n",
              "</div>"
            ],
            "text/plain": [
              "                          response              labels\n",
              "0  Hello, I'm sure you love tennis  start_conversation\n",
              "1           Happy to have you here  start_conversation\n",
              "2            Good to see you again  start_conversation\n",
              "3        Hi there, how can I help?  start_conversation\n",
              "4                Hi, I'm  BoTennis        what_are_you"
            ]
          },
          "metadata": {
            "tags": []
          },
          "execution_count": 14
        }
      ]
    },
    {
      "cell_type": "code",
      "metadata": {
        "id": "MQ62vaH9OL8A"
      },
      "source": [
        "lemmatizer = WordNetLemmatizer()\n",
        "\n",
        "vocab = Counter()\n",
        "labels = []\n",
        "def tokenizer(entry):\n",
        "    tokens = entry.split()\n",
        "    re_punc = re.compile('[%s]' % re.escape(string.punctuation))\n",
        "    tokens = [re_punc.sub('', w) for w in tokens]\n",
        "    tokens = [word for word in tokens if word.isalpha()]\n",
        "    tokens = [lemmatizer.lemmatize(w.lower()) for w in tokens]\n",
        "#     stop_words = set(stopwords.words('english'))\n",
        "#     tokens = [w for w in tokens if not w in stop_words]\n",
        "    tokens = [word.lower() for word in tokens if len(word) > 1]\n",
        "    return tokens"
      ],
      "execution_count": 15,
      "outputs": []
    },
    {
      "cell_type": "code",
      "metadata": {
        "id": "8XX0OntFOL8B"
      },
      "source": [
        "def remove_stop_words(tokenizer,df,feature):\n",
        "    doc_without_stopwords = []\n",
        "    for entry in df[feature]:\n",
        "        tokens = tokenizer(entry)\n",
        "        joblib.dump(tokens,'tokens.pkl')\n",
        "        doc_without_stopwords.append(' '.join(tokens))\n",
        "    df[feature] = doc_without_stopwords\n",
        "    return "
      ],
      "execution_count": 16,
      "outputs": []
    },
    {
      "cell_type": "code",
      "metadata": {
        "id": "Gjm1WkPxOL8B"
      },
      "source": [
        ""
      ],
      "execution_count": null,
      "outputs": []
    },
    {
      "cell_type": "code",
      "metadata": {
        "id": "SpFopeqoOL8B"
      },
      "source": [
        "def create_vocab(tokenizer,df,feature):\n",
        "    for entry in df[feature]:\n",
        "        tokens = tokenizer(entry)   \n",
        "        vocab.update(tokens)\n",
        "    joblib.dump(vocab,'vocab.pkl')\n",
        "    return "
      ],
      "execution_count": 17,
      "outputs": []
    },
    {
      "cell_type": "code",
      "metadata": {
        "id": "EkgLdlI3OL8B"
      },
      "source": [
        "create_vocab(tokenizer,df1,'questions')\n",
        "remove_stop_words(tokenizer,df1,'questions')"
      ],
      "execution_count": 20,
      "outputs": []
    },
    {
      "cell_type": "code",
      "metadata": {
        "id": "faztPTRFOL8C",
        "outputId": "de4900e6-1504-40fe-f807-d15bdd874c94"
      },
      "source": [
        "print(vocab.most_common(20))"
      ],
      "execution_count": null,
      "outputs": [
        {
          "output_type": "stream",
          "text": [
            "[('tennis', 36), ('the', 24), ('what', 23), ('you', 22), ('are', 19), ('do', 16), ('in', 11), ('rule', 11), ('how', 10), ('can', 7), ('know', 7), ('about', 7), ('is', 6), ('player', 6), ('list', 6), ('service', 6), ('score', 6), ('who', 5), ('me', 5), ('kit', 5)]\n"
          ],
          "name": "stdout"
        }
      ]
    },
    {
      "cell_type": "code",
      "metadata": {
        "id": "9u37iorxOL8C",
        "colab": {
          "base_uri": "https://localhost:8080/"
        },
        "outputId": "b4a7d14b-bed7-46af-9d4c-5100e814cf64"
      },
      "source": [
        "vocab_size = len(vocab)\n",
        "vocab_size"
      ],
      "execution_count": 21,
      "outputs": [
        {
          "output_type": "execute_result",
          "data": {
            "text/plain": [
              "118"
            ]
          },
          "metadata": {
            "tags": []
          },
          "execution_count": 21
        }
      ]
    },
    {
      "cell_type": "code",
      "metadata": {
        "id": "wiPiN95VOL8D",
        "colab": {
          "base_uri": "https://localhost:8080/",
          "height": 406
        },
        "outputId": "cf7b0d40-cd19-4bc9-fe14-721aa4660ebd"
      },
      "source": [
        "df1"
      ],
      "execution_count": 22,
      "outputs": [
        {
          "output_type": "execute_result",
          "data": {
            "text/html": [
              "<div>\n",
              "<style scoped>\n",
              "    .dataframe tbody tr th:only-of-type {\n",
              "        vertical-align: middle;\n",
              "    }\n",
              "\n",
              "    .dataframe tbody tr th {\n",
              "        vertical-align: top;\n",
              "    }\n",
              "\n",
              "    .dataframe thead th {\n",
              "        text-align: right;\n",
              "    }\n",
              "</style>\n",
              "<table border=\"1\" class=\"dataframe\">\n",
              "  <thead>\n",
              "    <tr style=\"text-align: right;\">\n",
              "      <th></th>\n",
              "      <th>questions</th>\n",
              "      <th>labels</th>\n",
              "    </tr>\n",
              "  </thead>\n",
              "  <tbody>\n",
              "    <tr>\n",
              "      <th>0</th>\n",
              "      <td>hi there</td>\n",
              "      <td>start_conversation</td>\n",
              "    </tr>\n",
              "    <tr>\n",
              "      <th>1</th>\n",
              "      <td>is anyone there</td>\n",
              "      <td>start_conversation</td>\n",
              "    </tr>\n",
              "    <tr>\n",
              "      <th>2</th>\n",
              "      <td>hey</td>\n",
              "      <td>start_conversation</td>\n",
              "    </tr>\n",
              "    <tr>\n",
              "      <th>3</th>\n",
              "      <td>hola</td>\n",
              "      <td>start_conversation</td>\n",
              "    </tr>\n",
              "    <tr>\n",
              "      <th>4</th>\n",
              "      <td>hello</td>\n",
              "      <td>start_conversation</td>\n",
              "    </tr>\n",
              "    <tr>\n",
              "      <th>...</th>\n",
              "      <td>...</td>\n",
              "      <td>...</td>\n",
              "    </tr>\n",
              "    <tr>\n",
              "      <th>82</th>\n",
              "      <td>what are the match format in tennis</td>\n",
              "      <td>match_format</td>\n",
              "    </tr>\n",
              "    <tr>\n",
              "      <th>83</th>\n",
              "      <td>do we just keep playing till we get tired</td>\n",
              "      <td>match_format</td>\n",
              "    </tr>\n",
              "    <tr>\n",
              "      <th>84</th>\n",
              "      <td>how many match set are there in tennis</td>\n",
              "      <td>match_format</td>\n",
              "    </tr>\n",
              "    <tr>\n",
              "      <th>85</th>\n",
              "      <td>when do we stop playing</td>\n",
              "      <td>match_format</td>\n",
              "    </tr>\n",
              "    <tr>\n",
              "      <th>86</th>\n",
              "      <td>how many set can be played</td>\n",
              "      <td>match_format</td>\n",
              "    </tr>\n",
              "  </tbody>\n",
              "</table>\n",
              "<p>87 rows × 2 columns</p>\n",
              "</div>"
            ],
            "text/plain": [
              "                                    questions              labels\n",
              "0                                    hi there  start_conversation\n",
              "1                             is anyone there  start_conversation\n",
              "2                                         hey  start_conversation\n",
              "3                                        hola  start_conversation\n",
              "4                                       hello  start_conversation\n",
              "..                                        ...                 ...\n",
              "82        what are the match format in tennis        match_format\n",
              "83  do we just keep playing till we get tired        match_format\n",
              "84     how many match set are there in tennis        match_format\n",
              "85                    when do we stop playing        match_format\n",
              "86                 how many set can be played        match_format\n",
              "\n",
              "[87 rows x 2 columns]"
            ]
          },
          "metadata": {
            "tags": []
          },
          "execution_count": 22
        }
      ]
    },
    {
      "cell_type": "code",
      "metadata": {
        "id": "o2DqADkBOL8D",
        "colab": {
          "base_uri": "https://localhost:8080/"
        },
        "outputId": "db33eb15-f188-41d7-e949-ef76869e2492"
      },
      "source": [
        "test_list = list(df1.groupby(by='labels',as_index=False).first()['questions'])\n",
        "test_list"
      ],
      "execution_count": 23,
      "outputs": [
        {
          "output_type": "execute_result",
          "data": {
            "text/plain": [
              "['what do you know about tennis',\n",
              " 'each line on the tennis court mean whats',\n",
              " 'bye',\n",
              " 'who serf first',\n",
              " 'what are the general rule of tennis',\n",
              " 'what are the tennis kit need to get started',\n",
              " 'what are the match format in tennis',\n",
              " 'how can you help me',\n",
              " 'how is score counted',\n",
              " 'what are the service rule',\n",
              " 'hi there',\n",
              " 'do you know tennis game type',\n",
              " 'thanks',\n",
              " 'what will happen if game end in same score',\n",
              " 'who are the top player in tennis',\n",
              " 'what is your name']"
            ]
          },
          "metadata": {
            "tags": []
          },
          "execution_count": 23
        }
      ]
    },
    {
      "cell_type": "code",
      "metadata": {
        "id": "zn91zIhnOL8D",
        "colab": {
          "base_uri": "https://localhost:8080/"
        },
        "outputId": "31c6cccb-24a2-445c-b598-f14145f092e7"
      },
      "source": [
        "test_index = []\n",
        "for i,_ in enumerate(test_list):\n",
        "    idx = df1[df1.questions == test_list[i]].index[0]\n",
        "    test_index.append(idx)\n",
        "test_index"
      ],
      "execution_count": 24,
      "outputs": [
        {
          "output_type": "execute_result",
          "data": {
            "text/plain": [
              "[29, 55, 11, 58, 40, 45, 82, 21, 77, 62, 0, 68, 16, 72, 34, 7]"
            ]
          },
          "metadata": {
            "tags": []
          },
          "execution_count": 24
        }
      ]
    },
    {
      "cell_type": "code",
      "metadata": {
        "id": "oE1dSOZIOL8E"
      },
      "source": [
        "train_index = [i for i in df1.index if i not in test_index]"
      ],
      "execution_count": 25,
      "outputs": []
    },
    {
      "cell_type": "code",
      "metadata": {
        "id": "BIZml2npOL8E",
        "colab": {
          "base_uri": "https://localhost:8080/",
          "height": 106
        },
        "outputId": "ed8c98f7-142c-49ef-a6ea-d47323b7b50c"
      },
      "source": [
        "' '.join(list(vocab.keys()))"
      ],
      "execution_count": 26,
      "outputs": [
        {
          "output_type": "execute_result",
          "data": {
            "application/vnd.google.colaboratory.intrinsic+json": {
              "type": "string"
            },
            "text/plain": [
              "'hi there is anyone hey hola hello good day what your name are you who pls bye see later goodbye nice chatting to till next time thanks thank thats helpful awesome for helping me how can help do provide be support offered know about tennis tell really lot exactly mean by guide through the top player in list best general rule of playing kit need get started wear beginner full will each line on court whats why so many where base serf first decide serve anybody service stand anywhere game type different explain happen if end same score tiebreak doe work winner when tie break counted scoring board count match format we just keep tired set stop played'"
            ]
          },
          "metadata": {
            "tags": []
          },
          "execution_count": 26
        }
      ]
    },
    {
      "cell_type": "code",
      "metadata": {
        "id": "nBH39IyWOL8E"
      },
      "source": [
        "def encoder(df,feature):\n",
        "#     text = ' '.join(list(vocab.keys()))\n",
        "    t = Tokenizer()\n",
        "    entries = [entry for entry in df[feature]]\n",
        "    t.fit_on_texts(entries)\n",
        "    joblib.dump(t,'tokenizer_t.pkl')\n",
        "    vocab_size = len(t.word_index) + 1\n",
        "    entries = [entry for entry in df[feature]]\n",
        "    max_length = max([len(s.split()) for s in entries])\n",
        "    encoded = t.texts_to_sequences(entries)\n",
        "    padded = pad_sequences(encoded, maxlen=max_length, padding='post')\n",
        "    return padded, vocab_size"
      ],
      "execution_count": 27,
      "outputs": []
    },
    {
      "cell_type": "code",
      "metadata": {
        "id": "NPptv6IZOL8H"
      },
      "source": [
        "X,vocab_size = encoder(df1,'questions')"
      ],
      "execution_count": 28,
      "outputs": []
    },
    {
      "cell_type": "code",
      "metadata": {
        "id": "1CXX0oc-OL8I"
      },
      "source": [
        "df_encoded = pd.DataFrame(X)"
      ],
      "execution_count": 29,
      "outputs": []
    },
    {
      "cell_type": "code",
      "metadata": {
        "id": "zTPp7QgXOL8I",
        "colab": {
          "base_uri": "https://localhost:8080/",
          "height": 197
        },
        "outputId": "c39d74d9-6101-4fb6-8b6b-7aeb38ec0e2e"
      },
      "source": [
        "df_encoded['labels'] = df1.labels\n",
        "df_encoded.head()"
      ],
      "execution_count": 30,
      "outputs": [
        {
          "output_type": "execute_result",
          "data": {
            "text/html": [
              "<div>\n",
              "<style scoped>\n",
              "    .dataframe tbody tr th:only-of-type {\n",
              "        vertical-align: middle;\n",
              "    }\n",
              "\n",
              "    .dataframe tbody tr th {\n",
              "        vertical-align: top;\n",
              "    }\n",
              "\n",
              "    .dataframe thead th {\n",
              "        text-align: right;\n",
              "    }\n",
              "</style>\n",
              "<table border=\"1\" class=\"dataframe\">\n",
              "  <thead>\n",
              "    <tr style=\"text-align: right;\">\n",
              "      <th></th>\n",
              "      <th>0</th>\n",
              "      <th>1</th>\n",
              "      <th>2</th>\n",
              "      <th>3</th>\n",
              "      <th>4</th>\n",
              "      <th>5</th>\n",
              "      <th>6</th>\n",
              "      <th>7</th>\n",
              "      <th>8</th>\n",
              "      <th>9</th>\n",
              "      <th>10</th>\n",
              "      <th>11</th>\n",
              "      <th>12</th>\n",
              "      <th>13</th>\n",
              "      <th>14</th>\n",
              "      <th>15</th>\n",
              "      <th>labels</th>\n",
              "    </tr>\n",
              "  </thead>\n",
              "  <tbody>\n",
              "    <tr>\n",
              "      <th>0</th>\n",
              "      <td>44</td>\n",
              "      <td>23</td>\n",
              "      <td>0</td>\n",
              "      <td>0</td>\n",
              "      <td>0</td>\n",
              "      <td>0</td>\n",
              "      <td>0</td>\n",
              "      <td>0</td>\n",
              "      <td>0</td>\n",
              "      <td>0</td>\n",
              "      <td>0</td>\n",
              "      <td>0</td>\n",
              "      <td>0</td>\n",
              "      <td>0</td>\n",
              "      <td>0</td>\n",
              "      <td>0</td>\n",
              "      <td>start_conversation</td>\n",
              "    </tr>\n",
              "    <tr>\n",
              "      <th>1</th>\n",
              "      <td>13</td>\n",
              "      <td>65</td>\n",
              "      <td>23</td>\n",
              "      <td>0</td>\n",
              "      <td>0</td>\n",
              "      <td>0</td>\n",
              "      <td>0</td>\n",
              "      <td>0</td>\n",
              "      <td>0</td>\n",
              "      <td>0</td>\n",
              "      <td>0</td>\n",
              "      <td>0</td>\n",
              "      <td>0</td>\n",
              "      <td>0</td>\n",
              "      <td>0</td>\n",
              "      <td>0</td>\n",
              "      <td>start_conversation</td>\n",
              "    </tr>\n",
              "    <tr>\n",
              "      <th>2</th>\n",
              "      <td>66</td>\n",
              "      <td>0</td>\n",
              "      <td>0</td>\n",
              "      <td>0</td>\n",
              "      <td>0</td>\n",
              "      <td>0</td>\n",
              "      <td>0</td>\n",
              "      <td>0</td>\n",
              "      <td>0</td>\n",
              "      <td>0</td>\n",
              "      <td>0</td>\n",
              "      <td>0</td>\n",
              "      <td>0</td>\n",
              "      <td>0</td>\n",
              "      <td>0</td>\n",
              "      <td>0</td>\n",
              "      <td>start_conversation</td>\n",
              "    </tr>\n",
              "    <tr>\n",
              "      <th>3</th>\n",
              "      <td>67</td>\n",
              "      <td>0</td>\n",
              "      <td>0</td>\n",
              "      <td>0</td>\n",
              "      <td>0</td>\n",
              "      <td>0</td>\n",
              "      <td>0</td>\n",
              "      <td>0</td>\n",
              "      <td>0</td>\n",
              "      <td>0</td>\n",
              "      <td>0</td>\n",
              "      <td>0</td>\n",
              "      <td>0</td>\n",
              "      <td>0</td>\n",
              "      <td>0</td>\n",
              "      <td>0</td>\n",
              "      <td>start_conversation</td>\n",
              "    </tr>\n",
              "    <tr>\n",
              "      <th>4</th>\n",
              "      <td>68</td>\n",
              "      <td>0</td>\n",
              "      <td>0</td>\n",
              "      <td>0</td>\n",
              "      <td>0</td>\n",
              "      <td>0</td>\n",
              "      <td>0</td>\n",
              "      <td>0</td>\n",
              "      <td>0</td>\n",
              "      <td>0</td>\n",
              "      <td>0</td>\n",
              "      <td>0</td>\n",
              "      <td>0</td>\n",
              "      <td>0</td>\n",
              "      <td>0</td>\n",
              "      <td>0</td>\n",
              "      <td>start_conversation</td>\n",
              "    </tr>\n",
              "  </tbody>\n",
              "</table>\n",
              "</div>"
            ],
            "text/plain": [
              "    0   1   2  3  4  5  6  7  8  9  10  11  12  13  14  15              labels\n",
              "0  44  23   0  0  0  0  0  0  0  0   0   0   0   0   0   0  start_conversation\n",
              "1  13  65  23  0  0  0  0  0  0  0   0   0   0   0   0   0  start_conversation\n",
              "2  66   0   0  0  0  0  0  0  0  0   0   0   0   0   0   0  start_conversation\n",
              "3  67   0   0  0  0  0  0  0  0  0   0   0   0   0   0   0  start_conversation\n",
              "4  68   0   0  0  0  0  0  0  0  0   0   0   0   0   0   0  start_conversation"
            ]
          },
          "metadata": {
            "tags": []
          },
          "execution_count": 30
        }
      ]
    },
    {
      "cell_type": "code",
      "metadata": {
        "id": "a8ZqupXxOL8J"
      },
      "source": [
        "for i in range(0,2):\n",
        "    dt = [0]*16\n",
        "    dt.append('confused')\n",
        "    dt = [dt]\n",
        "    pd.DataFrame(dt).rename(columns = {16:'labels'})\n",
        "    df_encoded = df_encoded.append(pd.DataFrame(dt).rename(columns = {16:'labels'}),ignore_index=True)"
      ],
      "execution_count": 31,
      "outputs": []
    },
    {
      "cell_type": "code",
      "metadata": {
        "id": "C7gi2pQZOL8K",
        "colab": {
          "base_uri": "https://localhost:8080/",
          "height": 197
        },
        "outputId": "7963eaff-2485-49e1-bf4f-1e83fb3d38b0"
      },
      "source": [
        "df_encoded.tail()"
      ],
      "execution_count": 32,
      "outputs": [
        {
          "output_type": "execute_result",
          "data": {
            "text/html": [
              "<div>\n",
              "<style scoped>\n",
              "    .dataframe tbody tr th:only-of-type {\n",
              "        vertical-align: middle;\n",
              "    }\n",
              "\n",
              "    .dataframe tbody tr th {\n",
              "        vertical-align: top;\n",
              "    }\n",
              "\n",
              "    .dataframe thead th {\n",
              "        text-align: right;\n",
              "    }\n",
              "</style>\n",
              "<table border=\"1\" class=\"dataframe\">\n",
              "  <thead>\n",
              "    <tr style=\"text-align: right;\">\n",
              "      <th></th>\n",
              "      <th>0</th>\n",
              "      <th>1</th>\n",
              "      <th>2</th>\n",
              "      <th>3</th>\n",
              "      <th>4</th>\n",
              "      <th>5</th>\n",
              "      <th>6</th>\n",
              "      <th>7</th>\n",
              "      <th>8</th>\n",
              "      <th>9</th>\n",
              "      <th>10</th>\n",
              "      <th>11</th>\n",
              "      <th>12</th>\n",
              "      <th>13</th>\n",
              "      <th>14</th>\n",
              "      <th>15</th>\n",
              "      <th>labels</th>\n",
              "    </tr>\n",
              "  </thead>\n",
              "  <tbody>\n",
              "    <tr>\n",
              "      <th>84</th>\n",
              "      <td>9</td>\n",
              "      <td>40</td>\n",
              "      <td>63</td>\n",
              "      <td>64</td>\n",
              "      <td>5</td>\n",
              "      <td>23</td>\n",
              "      <td>7</td>\n",
              "      <td>1</td>\n",
              "      <td>0</td>\n",
              "      <td>0</td>\n",
              "      <td>0</td>\n",
              "      <td>0</td>\n",
              "      <td>0</td>\n",
              "      <td>0</td>\n",
              "      <td>0</td>\n",
              "      <td>0</td>\n",
              "      <td>match_format</td>\n",
              "    </tr>\n",
              "    <tr>\n",
              "      <th>85</th>\n",
              "      <td>61</td>\n",
              "      <td>6</td>\n",
              "      <td>43</td>\n",
              "      <td>117</td>\n",
              "      <td>36</td>\n",
              "      <td>0</td>\n",
              "      <td>0</td>\n",
              "      <td>0</td>\n",
              "      <td>0</td>\n",
              "      <td>0</td>\n",
              "      <td>0</td>\n",
              "      <td>0</td>\n",
              "      <td>0</td>\n",
              "      <td>0</td>\n",
              "      <td>0</td>\n",
              "      <td>0</td>\n",
              "      <td>match_format</td>\n",
              "    </tr>\n",
              "    <tr>\n",
              "      <th>86</th>\n",
              "      <td>9</td>\n",
              "      <td>40</td>\n",
              "      <td>64</td>\n",
              "      <td>10</td>\n",
              "      <td>25</td>\n",
              "      <td>118</td>\n",
              "      <td>0</td>\n",
              "      <td>0</td>\n",
              "      <td>0</td>\n",
              "      <td>0</td>\n",
              "      <td>0</td>\n",
              "      <td>0</td>\n",
              "      <td>0</td>\n",
              "      <td>0</td>\n",
              "      <td>0</td>\n",
              "      <td>0</td>\n",
              "      <td>match_format</td>\n",
              "    </tr>\n",
              "    <tr>\n",
              "      <th>87</th>\n",
              "      <td>0</td>\n",
              "      <td>0</td>\n",
              "      <td>0</td>\n",
              "      <td>0</td>\n",
              "      <td>0</td>\n",
              "      <td>0</td>\n",
              "      <td>0</td>\n",
              "      <td>0</td>\n",
              "      <td>0</td>\n",
              "      <td>0</td>\n",
              "      <td>0</td>\n",
              "      <td>0</td>\n",
              "      <td>0</td>\n",
              "      <td>0</td>\n",
              "      <td>0</td>\n",
              "      <td>0</td>\n",
              "      <td>confused</td>\n",
              "    </tr>\n",
              "    <tr>\n",
              "      <th>88</th>\n",
              "      <td>0</td>\n",
              "      <td>0</td>\n",
              "      <td>0</td>\n",
              "      <td>0</td>\n",
              "      <td>0</td>\n",
              "      <td>0</td>\n",
              "      <td>0</td>\n",
              "      <td>0</td>\n",
              "      <td>0</td>\n",
              "      <td>0</td>\n",
              "      <td>0</td>\n",
              "      <td>0</td>\n",
              "      <td>0</td>\n",
              "      <td>0</td>\n",
              "      <td>0</td>\n",
              "      <td>0</td>\n",
              "      <td>confused</td>\n",
              "    </tr>\n",
              "  </tbody>\n",
              "</table>\n",
              "</div>"
            ],
            "text/plain": [
              "     0   1   2    3   4    5  6  7  8  9  10  11  12  13  14  15        labels\n",
              "84   9  40  63   64   5   23  7  1  0  0   0   0   0   0   0   0  match_format\n",
              "85  61   6  43  117  36    0  0  0  0  0   0   0   0   0   0   0  match_format\n",
              "86   9  40  64   10  25  118  0  0  0  0   0   0   0   0   0   0  match_format\n",
              "87   0   0   0    0   0    0  0  0  0  0   0   0   0   0   0   0      confused\n",
              "88   0   0   0    0   0    0  0  0  0  0   0   0   0   0   0   0      confused"
            ]
          },
          "metadata": {
            "tags": []
          },
          "execution_count": 32
        }
      ]
    },
    {
      "cell_type": "code",
      "metadata": {
        "id": "90HCzQXyOL8K"
      },
      "source": [
        "train_index.append(87)"
      ],
      "execution_count": 33,
      "outputs": []
    },
    {
      "cell_type": "code",
      "metadata": {
        "id": "g0M2rP1ZOL8L"
      },
      "source": [
        "test_index.append(88)"
      ],
      "execution_count": 34,
      "outputs": []
    },
    {
      "cell_type": "code",
      "metadata": {
        "id": "4RlAQbJ6OL8L"
      },
      "source": [
        "# df_encoded = df_encoded.append(pd.DataFrame(dt).rename(columns = {16:'labels'}),ignore_index=True)"
      ],
      "execution_count": 35,
      "outputs": []
    },
    {
      "cell_type": "code",
      "metadata": {
        "id": "DiageIZBOL8L"
      },
      "source": [
        "from sklearn.preprocessing import LabelEncoder\n",
        "lable_enc = LabelEncoder()"
      ],
      "execution_count": 36,
      "outputs": []
    },
    {
      "cell_type": "code",
      "metadata": {
        "id": "pnCR4doiOL8M",
        "colab": {
          "base_uri": "https://localhost:8080/"
        },
        "outputId": "3db9ef7c-2cda-4415-a3f4-768776099d1a"
      },
      "source": [
        "labl = lable_enc.fit_transform(df_encoded.labels)\n",
        "labl"
      ],
      "execution_count": 37,
      "outputs": [
        {
          "output_type": "execute_result",
          "data": {
            "text/plain": [
              "array([11, 11, 11, 11, 11, 11, 11, 16, 16, 16, 16,  3,  3,  3,  3,  3, 13,\n",
              "       13, 13, 13, 13,  8,  8,  8,  8,  8,  8,  8,  8,  0,  0,  0,  0,  0,\n",
              "       15, 15, 15, 15, 15, 15,  5,  5,  5,  5,  5,  6,  6,  6,  6,  6,  6,\n",
              "        6,  6,  6,  6,  2,  2,  2,  4,  4,  4,  4, 10, 10, 10, 10, 10, 10,\n",
              "       12, 12, 12, 12, 14, 14, 14, 14, 14,  9,  9,  9,  9,  9,  7,  7,  7,\n",
              "        7,  7,  1,  1])"
            ]
          },
          "metadata": {
            "tags": []
          },
          "execution_count": 37
        }
      ]
    },
    {
      "cell_type": "code",
      "metadata": {
        "id": "37ONeI2XOL8M",
        "colab": {
          "base_uri": "https://localhost:8080/"
        },
        "outputId": "de73bf1b-f27d-4e44-a4cc-533ccdce270e"
      },
      "source": [
        "mapper = {}\n",
        "for index,key in enumerate(df_encoded.labels):\n",
        "    if key not in mapper.keys():\n",
        "        mapper[key] = labl[index]\n",
        "mapper"
      ],
      "execution_count": 38,
      "outputs": [
        {
          "output_type": "execute_result",
          "data": {
            "text/plain": [
              "{'bot_scope': 0,\n",
              " 'confused': 1,\n",
              " 'court_lines': 2,\n",
              " 'end_conversation': 3,\n",
              " 'first_server': 4,\n",
              " 'general_rules': 5,\n",
              " 'kits': 6,\n",
              " 'match_format': 7,\n",
              " 'options': 8,\n",
              " 'scoring': 9,\n",
              " 'serving_rules': 10,\n",
              " 'start_conversation': 11,\n",
              " 'tennis_games': 12,\n",
              " 'thanks': 13,\n",
              " 'tie_break': 14,\n",
              " 'top_players': 15,\n",
              " 'what_are_you': 16}"
            ]
          },
          "metadata": {
            "tags": []
          },
          "execution_count": 38
        }
      ]
    },
    {
      "cell_type": "code",
      "metadata": {
        "id": "zkSk44XEOL8M",
        "colab": {
          "base_uri": "https://localhost:8080/",
          "height": 197
        },
        "outputId": "8781623a-bb03-47ce-f100-3b197d9f09a7"
      },
      "source": [
        "df2.head()"
      ],
      "execution_count": 39,
      "outputs": [
        {
          "output_type": "execute_result",
          "data": {
            "text/html": [
              "<div>\n",
              "<style scoped>\n",
              "    .dataframe tbody tr th:only-of-type {\n",
              "        vertical-align: middle;\n",
              "    }\n",
              "\n",
              "    .dataframe tbody tr th {\n",
              "        vertical-align: top;\n",
              "    }\n",
              "\n",
              "    .dataframe thead th {\n",
              "        text-align: right;\n",
              "    }\n",
              "</style>\n",
              "<table border=\"1\" class=\"dataframe\">\n",
              "  <thead>\n",
              "    <tr style=\"text-align: right;\">\n",
              "      <th></th>\n",
              "      <th>response</th>\n",
              "      <th>labels</th>\n",
              "    </tr>\n",
              "  </thead>\n",
              "  <tbody>\n",
              "    <tr>\n",
              "      <th>0</th>\n",
              "      <td>Hello, I'm sure you love tennis</td>\n",
              "      <td>start_conversation</td>\n",
              "    </tr>\n",
              "    <tr>\n",
              "      <th>1</th>\n",
              "      <td>Happy to have you here</td>\n",
              "      <td>start_conversation</td>\n",
              "    </tr>\n",
              "    <tr>\n",
              "      <th>2</th>\n",
              "      <td>Good to see you again</td>\n",
              "      <td>start_conversation</td>\n",
              "    </tr>\n",
              "    <tr>\n",
              "      <th>3</th>\n",
              "      <td>Hi there, how can I help?</td>\n",
              "      <td>start_conversation</td>\n",
              "    </tr>\n",
              "    <tr>\n",
              "      <th>4</th>\n",
              "      <td>Hi, I'm  BoTennis</td>\n",
              "      <td>what_are_you</td>\n",
              "    </tr>\n",
              "  </tbody>\n",
              "</table>\n",
              "</div>"
            ],
            "text/plain": [
              "                          response              labels\n",
              "0  Hello, I'm sure you love tennis  start_conversation\n",
              "1           Happy to have you here  start_conversation\n",
              "2            Good to see you again  start_conversation\n",
              "3        Hi there, how can I help?  start_conversation\n",
              "4                Hi, I'm  BoTennis        what_are_you"
            ]
          },
          "metadata": {
            "tags": []
          },
          "execution_count": 39
        }
      ]
    },
    {
      "cell_type": "code",
      "metadata": {
        "id": "NG5vVd1kOL8N",
        "colab": {
          "base_uri": "https://localhost:8080/",
          "height": 197
        },
        "outputId": "99bd39e0-4b3a-43cb-c072-0aec6bcb1a51"
      },
      "source": [
        "df2.labels = df2.labels.map(mapper).astype({'labels': 'int32'})\n",
        "df2.head()"
      ],
      "execution_count": 40,
      "outputs": [
        {
          "output_type": "execute_result",
          "data": {
            "text/html": [
              "<div>\n",
              "<style scoped>\n",
              "    .dataframe tbody tr th:only-of-type {\n",
              "        vertical-align: middle;\n",
              "    }\n",
              "\n",
              "    .dataframe tbody tr th {\n",
              "        vertical-align: top;\n",
              "    }\n",
              "\n",
              "    .dataframe thead th {\n",
              "        text-align: right;\n",
              "    }\n",
              "</style>\n",
              "<table border=\"1\" class=\"dataframe\">\n",
              "  <thead>\n",
              "    <tr style=\"text-align: right;\">\n",
              "      <th></th>\n",
              "      <th>response</th>\n",
              "      <th>labels</th>\n",
              "    </tr>\n",
              "  </thead>\n",
              "  <tbody>\n",
              "    <tr>\n",
              "      <th>0</th>\n",
              "      <td>Hello, I'm sure you love tennis</td>\n",
              "      <td>11</td>\n",
              "    </tr>\n",
              "    <tr>\n",
              "      <th>1</th>\n",
              "      <td>Happy to have you here</td>\n",
              "      <td>11</td>\n",
              "    </tr>\n",
              "    <tr>\n",
              "      <th>2</th>\n",
              "      <td>Good to see you again</td>\n",
              "      <td>11</td>\n",
              "    </tr>\n",
              "    <tr>\n",
              "      <th>3</th>\n",
              "      <td>Hi there, how can I help?</td>\n",
              "      <td>11</td>\n",
              "    </tr>\n",
              "    <tr>\n",
              "      <th>4</th>\n",
              "      <td>Hi, I'm  BoTennis</td>\n",
              "      <td>16</td>\n",
              "    </tr>\n",
              "  </tbody>\n",
              "</table>\n",
              "</div>"
            ],
            "text/plain": [
              "                          response  labels\n",
              "0  Hello, I'm sure you love tennis      11\n",
              "1           Happy to have you here      11\n",
              "2            Good to see you again      11\n",
              "3        Hi there, how can I help?      11\n",
              "4                Hi, I'm  BoTennis      16"
            ]
          },
          "metadata": {
            "tags": []
          },
          "execution_count": 40
        }
      ]
    },
    {
      "cell_type": "code",
      "metadata": {
        "id": "pV9hZnYiOL8N"
      },
      "source": [
        "df2.to_csv('response.csv',index=False)"
      ],
      "execution_count": 42,
      "outputs": []
    },
    {
      "cell_type": "code",
      "metadata": {
        "id": "ugKaT3wHOL8O"
      },
      "source": [
        "# df2.groupby('labels').get_group(11)"
      ],
      "execution_count": 43,
      "outputs": []
    },
    {
      "cell_type": "code",
      "metadata": {
        "id": "Cfg0m9G8OL8O"
      },
      "source": [
        "train = df_encoded.loc[train_index]\n",
        "test = df_encoded.loc[test_index]"
      ],
      "execution_count": 44,
      "outputs": []
    },
    {
      "cell_type": "code",
      "metadata": {
        "id": "LWdhHjZIOL8O"
      },
      "source": [
        "X_train = train.drop(columns=['labels'],axis=1)\n",
        "y_train = train.labels\n",
        "X_test = test.drop(columns=['labels'],axis=1)\n",
        "y_test = test.labels"
      ],
      "execution_count": 45,
      "outputs": []
    },
    {
      "cell_type": "code",
      "metadata": {
        "id": "IDc0qe2YOL8O"
      },
      "source": [
        "y_train =pd.get_dummies(y_train).values\n",
        "y_test =pd.get_dummies(y_test).values"
      ],
      "execution_count": 46,
      "outputs": []
    },
    {
      "cell_type": "code",
      "metadata": {
        "id": "30z7kBVdOL8P",
        "colab": {
          "base_uri": "https://localhost:8080/"
        },
        "outputId": "52383b7b-d390-4879-bf2d-53f6d63969cd"
      },
      "source": [
        "y_train[0].shape,y_test[0].shape"
      ],
      "execution_count": 47,
      "outputs": [
        {
          "output_type": "execute_result",
          "data": {
            "text/plain": [
              "((17,), (17,))"
            ]
          },
          "metadata": {
            "tags": []
          },
          "execution_count": 47
        }
      ]
    },
    {
      "cell_type": "code",
      "metadata": {
        "id": "H4RmLQEBOL8P",
        "colab": {
          "base_uri": "https://localhost:8080/"
        },
        "outputId": "6573238b-1132-4df3-c550-acd8037e0005"
      },
      "source": [
        "X_train.shape"
      ],
      "execution_count": 48,
      "outputs": [
        {
          "output_type": "execute_result",
          "data": {
            "text/plain": [
              "(72, 16)"
            ]
          },
          "metadata": {
            "tags": []
          },
          "execution_count": 48
        }
      ]
    },
    {
      "cell_type": "code",
      "metadata": {
        "id": "Jg-DT_0vOL8P"
      },
      "source": [
        "max_length = X_train.shape[1]\n",
        "# output = len(df3.labels.unique())\n",
        "output = 17"
      ],
      "execution_count": 49,
      "outputs": []
    },
    {
      "cell_type": "code",
      "metadata": {
        "id": "V9USayzyOL8P"
      },
      "source": [
        "# def define_model(vocab_size, max_length):\n",
        "#     model = Sequential()\n",
        "#     model.add(Embedding(vocab_size,300, input_length=max_length))\n",
        "#     model.add(Conv1D(filters=64, kernel_size=6, activation='relu'))\n",
        "#     model.add(MaxPooling1D(pool_size=4))\n",
        "#     model.add(Flatten())\n",
        "# #     model.add(Dense(32, activation='relu'))\n",
        "#     model.add(Dense(16, activation='softmax'))\n",
        "    \n",
        "#     # compile network\n",
        "#     model.compile(loss='categorical_crossentropy', optimizer='adam', metrics=['accuracy'])\n",
        "#     # summarize defined model\n",
        "#     model.summary()\n",
        "# #     plot_model(model, to_file='model.png', show_shapes=True)\n",
        "#     return model"
      ],
      "execution_count": 50,
      "outputs": []
    },
    {
      "cell_type": "code",
      "metadata": {
        "id": "wqrzR3gVOL8Q",
        "colab": {
          "base_uri": "https://localhost:8080/"
        },
        "outputId": "fb2ccdb9-f2eb-42c7-b8b2-91a821e69565"
      },
      "source": [
        "max_length"
      ],
      "execution_count": 51,
      "outputs": [
        {
          "output_type": "execute_result",
          "data": {
            "text/plain": [
              "16"
            ]
          },
          "metadata": {
            "tags": []
          },
          "execution_count": 51
        }
      ]
    },
    {
      "cell_type": "code",
      "metadata": {
        "id": "xmkq88Z6OL8Q"
      },
      "source": [
        "early_stopping = EarlyStopping(monitor='val_loss',patience=10)\n",
        "checkpoint = ModelCheckpoint(\"model-v1.h5\",\n",
        "                             monitor=\"val_loss\",\n",
        "                             mode=\"min\",\n",
        "                             save_best_only = True,\n",
        "                             verbose=1)\n",
        "reduce_lr = ReduceLROnPlateau(monitor = 'val_loss', factor = 0.2, patience = 3, verbose = 1, min_delta = 0.0001)\n",
        "callbacks = [early_stopping,checkpoint,reduce_lr]\n",
        "    \n",
        "    "
      ],
      "execution_count": 52,
      "outputs": []
    },
    {
      "cell_type": "code",
      "metadata": {
        "id": "SqzOc3sGOL8Q"
      },
      "source": [
        "\n",
        "def define_model(vocab_size, max_length):\n",
        "    model = Sequential()\n",
        "    model.add(Embedding(vocab_size,300, input_length=max_length))\n",
        "    model.add(Conv1D(filters=64, kernel_size=4, activation='relu'))\n",
        "    model.add(MaxPooling1D(pool_size=8))\n",
        "    model.add(Flatten())\n",
        "#     model.add(Dense(32, activation='relu'))\n",
        "    model.add(Dense(17, activation='softmax'))\n",
        "    \n",
        "    \n",
        "    # compile network\n",
        "#     model.compile(loss='categorical_crossentropy', optimizer='adam', metrics=['accuracy'])\n",
        "    model.compile(loss = 'categorical_crossentropy',\n",
        "              # optimizer = Adam(lr=0.001),\n",
        "              optimizer = 'adam',\n",
        "              metrics = ['accuracy'])\n",
        "    \n",
        "    # summarize defined model\n",
        "    model.summary()\n",
        "#     plot_model(model, to_file='model.png', show_shapes=True)\n",
        "    return model"
      ],
      "execution_count": 53,
      "outputs": []
    },
    {
      "cell_type": "code",
      "metadata": {
        "id": "_0bbd-rbOL8R",
        "colab": {
          "base_uri": "https://localhost:8080/"
        },
        "outputId": "367e7bef-50c9-4e2d-becf-0d89c73f02b6"
      },
      "source": [
        "# define model\n",
        "model = define_model(vocab_size, max_length)"
      ],
      "execution_count": 54,
      "outputs": [
        {
          "output_type": "stream",
          "text": [
            "Model: \"sequential\"\n",
            "_________________________________________________________________\n",
            "Layer (type)                 Output Shape              Param #   \n",
            "=================================================================\n",
            "embedding (Embedding)        (None, 16, 300)           35700     \n",
            "_________________________________________________________________\n",
            "conv1d (Conv1D)              (None, 13, 64)            76864     \n",
            "_________________________________________________________________\n",
            "max_pooling1d (MaxPooling1D) (None, 1, 64)             0         \n",
            "_________________________________________________________________\n",
            "flatten (Flatten)            (None, 64)                0         \n",
            "_________________________________________________________________\n",
            "dense (Dense)                (None, 17)                1105      \n",
            "=================================================================\n",
            "Total params: 113,669\n",
            "Trainable params: 113,669\n",
            "Non-trainable params: 0\n",
            "_________________________________________________________________\n"
          ],
          "name": "stdout"
        }
      ]
    },
    {
      "cell_type": "code",
      "metadata": {
        "id": "uRNdT_CHOL8R",
        "colab": {
          "base_uri": "https://localhost:8080/"
        },
        "outputId": "ecd6a4b9-088f-41ef-f089-fb6acc90fd33"
      },
      "source": [
        "history = model.fit(X_train, y_train, epochs=500, verbose=1,validation_data=(X_test,y_test),callbacks=callbacks)"
      ],
      "execution_count": 55,
      "outputs": [
        {
          "output_type": "stream",
          "text": [
            "Epoch 1/500\n",
            "3/3 [==============================] - 1s 161ms/step - loss: 2.8315 - accuracy: 0.0404 - val_loss: 2.8045 - val_accuracy: 0.1176\n",
            "\n",
            "Epoch 00001: val_loss improved from inf to 2.80455, saving model to model-v1.h5\n",
            "Epoch 2/500\n",
            "3/3 [==============================] - 0s 29ms/step - loss: 2.7403 - accuracy: 0.4614 - val_loss: 2.7727 - val_accuracy: 0.1176\n",
            "\n",
            "Epoch 00002: val_loss improved from 2.80455 to 2.77266, saving model to model-v1.h5\n",
            "Epoch 3/500\n",
            "3/3 [==============================] - 0s 30ms/step - loss: 2.6705 - accuracy: 0.4744 - val_loss: 2.7414 - val_accuracy: 0.1765\n",
            "\n",
            "Epoch 00003: val_loss improved from 2.77266 to 2.74140, saving model to model-v1.h5\n",
            "Epoch 4/500\n",
            "3/3 [==============================] - 0s 32ms/step - loss: 2.6158 - accuracy: 0.4635 - val_loss: 2.7103 - val_accuracy: 0.2353\n",
            "\n",
            "Epoch 00004: val_loss improved from 2.74140 to 2.71031, saving model to model-v1.h5\n",
            "Epoch 5/500\n",
            "3/3 [==============================] - 0s 28ms/step - loss: 2.5527 - accuracy: 0.5521 - val_loss: 2.6800 - val_accuracy: 0.2353\n",
            "\n",
            "Epoch 00005: val_loss improved from 2.71031 to 2.67997, saving model to model-v1.h5\n",
            "Epoch 6/500\n",
            "3/3 [==============================] - 0s 28ms/step - loss: 2.4844 - accuracy: 0.5395 - val_loss: 2.6478 - val_accuracy: 0.2353\n",
            "\n",
            "Epoch 00006: val_loss improved from 2.67997 to 2.64776, saving model to model-v1.h5\n",
            "Epoch 7/500\n",
            "3/3 [==============================] - 0s 29ms/step - loss: 2.4106 - accuracy: 0.5404 - val_loss: 2.6119 - val_accuracy: 0.2353\n",
            "\n",
            "Epoch 00007: val_loss improved from 2.64776 to 2.61187, saving model to model-v1.h5\n",
            "Epoch 8/500\n",
            "3/3 [==============================] - 0s 28ms/step - loss: 2.3510 - accuracy: 0.5425 - val_loss: 2.5723 - val_accuracy: 0.2941\n",
            "\n",
            "Epoch 00008: val_loss improved from 2.61187 to 2.57229, saving model to model-v1.h5\n",
            "Epoch 9/500\n",
            "3/3 [==============================] - 0s 30ms/step - loss: 2.2873 - accuracy: 0.5456 - val_loss: 2.5297 - val_accuracy: 0.2941\n",
            "\n",
            "Epoch 00009: val_loss improved from 2.57229 to 2.52971, saving model to model-v1.h5\n",
            "Epoch 10/500\n",
            "3/3 [==============================] - 0s 30ms/step - loss: 2.1865 - accuracy: 0.6024 - val_loss: 2.4848 - val_accuracy: 0.2941\n",
            "\n",
            "Epoch 00010: val_loss improved from 2.52971 to 2.48483, saving model to model-v1.h5\n",
            "Epoch 11/500\n",
            "3/3 [==============================] - 0s 31ms/step - loss: 2.0781 - accuracy: 0.6476 - val_loss: 2.4374 - val_accuracy: 0.2941\n",
            "\n",
            "Epoch 00011: val_loss improved from 2.48483 to 2.43744, saving model to model-v1.h5\n",
            "Epoch 12/500\n",
            "3/3 [==============================] - 0s 28ms/step - loss: 2.0098 - accuracy: 0.6536 - val_loss: 2.3857 - val_accuracy: 0.2941\n",
            "\n",
            "Epoch 00012: val_loss improved from 2.43744 to 2.38569, saving model to model-v1.h5\n",
            "Epoch 13/500\n",
            "3/3 [==============================] - 0s 30ms/step - loss: 1.8554 - accuracy: 0.7036 - val_loss: 2.3320 - val_accuracy: 0.2941\n",
            "\n",
            "Epoch 00013: val_loss improved from 2.38569 to 2.33197, saving model to model-v1.h5\n",
            "Epoch 14/500\n",
            "3/3 [==============================] - 0s 28ms/step - loss: 1.8121 - accuracy: 0.7049 - val_loss: 2.2716 - val_accuracy: 0.4118\n",
            "\n",
            "Epoch 00014: val_loss improved from 2.33197 to 2.27159, saving model to model-v1.h5\n",
            "Epoch 15/500\n",
            "3/3 [==============================] - 0s 28ms/step - loss: 1.6722 - accuracy: 0.7982 - val_loss: 2.2075 - val_accuracy: 0.4118\n",
            "\n",
            "Epoch 00015: val_loss improved from 2.27159 to 2.20753, saving model to model-v1.h5\n",
            "Epoch 16/500\n",
            "3/3 [==============================] - 0s 33ms/step - loss: 1.5473 - accuracy: 0.8424 - val_loss: 2.1393 - val_accuracy: 0.4706\n",
            "\n",
            "Epoch 00016: val_loss improved from 2.20753 to 2.13925, saving model to model-v1.h5\n",
            "Epoch 17/500\n",
            "3/3 [==============================] - 0s 28ms/step - loss: 1.4817 - accuracy: 0.8299 - val_loss: 2.0677 - val_accuracy: 0.5882\n",
            "\n",
            "Epoch 00017: val_loss improved from 2.13925 to 2.06772, saving model to model-v1.h5\n",
            "Epoch 18/500\n",
            "3/3 [==============================] - 0s 28ms/step - loss: 1.3756 - accuracy: 0.8759 - val_loss: 1.9930 - val_accuracy: 0.5882\n",
            "\n",
            "Epoch 00018: val_loss improved from 2.06772 to 1.99303, saving model to model-v1.h5\n",
            "Epoch 19/500\n",
            "3/3 [==============================] - 0s 32ms/step - loss: 1.2571 - accuracy: 0.8524 - val_loss: 1.9201 - val_accuracy: 0.5882\n",
            "\n",
            "Epoch 00019: val_loss improved from 1.99303 to 1.92010, saving model to model-v1.h5\n",
            "Epoch 20/500\n",
            "3/3 [==============================] - 0s 31ms/step - loss: 1.1225 - accuracy: 0.9084 - val_loss: 1.8493 - val_accuracy: 0.5882\n",
            "\n",
            "Epoch 00020: val_loss improved from 1.92010 to 1.84935, saving model to model-v1.h5\n",
            "Epoch 21/500\n",
            "3/3 [==============================] - 0s 33ms/step - loss: 1.0626 - accuracy: 0.8880 - val_loss: 1.7786 - val_accuracy: 0.5882\n",
            "\n",
            "Epoch 00021: val_loss improved from 1.84935 to 1.77863, saving model to model-v1.h5\n",
            "Epoch 22/500\n",
            "3/3 [==============================] - 0s 31ms/step - loss: 0.9628 - accuracy: 0.9371 - val_loss: 1.7041 - val_accuracy: 0.5882\n",
            "\n",
            "Epoch 00022: val_loss improved from 1.77863 to 1.70410, saving model to model-v1.h5\n",
            "Epoch 23/500\n",
            "3/3 [==============================] - 0s 30ms/step - loss: 0.8373 - accuracy: 0.9488 - val_loss: 1.6303 - val_accuracy: 0.5882\n",
            "\n",
            "Epoch 00023: val_loss improved from 1.70410 to 1.63025, saving model to model-v1.h5\n",
            "Epoch 24/500\n",
            "3/3 [==============================] - 0s 30ms/step - loss: 0.7523 - accuracy: 0.9518 - val_loss: 1.5612 - val_accuracy: 0.5882\n",
            "\n",
            "Epoch 00024: val_loss improved from 1.63025 to 1.56118, saving model to model-v1.h5\n",
            "Epoch 25/500\n",
            "3/3 [==============================] - 0s 30ms/step - loss: 0.6244 - accuracy: 0.9822 - val_loss: 1.4983 - val_accuracy: 0.5882\n",
            "\n",
            "Epoch 00025: val_loss improved from 1.56118 to 1.49832, saving model to model-v1.h5\n",
            "Epoch 26/500\n",
            "3/3 [==============================] - 0s 33ms/step - loss: 0.5667 - accuracy: 0.9822 - val_loss: 1.4408 - val_accuracy: 0.5882\n",
            "\n",
            "Epoch 00026: val_loss improved from 1.49832 to 1.44081, saving model to model-v1.h5\n",
            "Epoch 27/500\n",
            "3/3 [==============================] - 0s 30ms/step - loss: 0.5174 - accuracy: 0.9813 - val_loss: 1.3909 - val_accuracy: 0.5882\n",
            "\n",
            "Epoch 00027: val_loss improved from 1.44081 to 1.39091, saving model to model-v1.h5\n",
            "Epoch 28/500\n",
            "3/3 [==============================] - 0s 29ms/step - loss: 0.4163 - accuracy: 0.9891 - val_loss: 1.3451 - val_accuracy: 0.5882\n",
            "\n",
            "Epoch 00028: val_loss improved from 1.39091 to 1.34506, saving model to model-v1.h5\n",
            "Epoch 29/500\n",
            "3/3 [==============================] - 0s 29ms/step - loss: 0.3675 - accuracy: 0.9931 - val_loss: 1.3041 - val_accuracy: 0.6471\n",
            "\n",
            "Epoch 00029: val_loss improved from 1.34506 to 1.30408, saving model to model-v1.h5\n",
            "Epoch 30/500\n",
            "3/3 [==============================] - 0s 29ms/step - loss: 0.3751 - accuracy: 0.9813 - val_loss: 1.2671 - val_accuracy: 0.6471\n",
            "\n",
            "Epoch 00030: val_loss improved from 1.30408 to 1.26706, saving model to model-v1.h5\n",
            "Epoch 31/500\n",
            "3/3 [==============================] - 0s 31ms/step - loss: 0.2726 - accuracy: 0.9931 - val_loss: 1.2356 - val_accuracy: 0.6471\n",
            "\n",
            "Epoch 00031: val_loss improved from 1.26706 to 1.23564, saving model to model-v1.h5\n",
            "Epoch 32/500\n",
            "3/3 [==============================] - 0s 30ms/step - loss: 0.2704 - accuracy: 0.9813 - val_loss: 1.2072 - val_accuracy: 0.6471\n",
            "\n",
            "Epoch 00032: val_loss improved from 1.23564 to 1.20716, saving model to model-v1.h5\n",
            "Epoch 33/500\n",
            "3/3 [==============================] - 0s 29ms/step - loss: 0.2291 - accuracy: 0.9891 - val_loss: 1.1808 - val_accuracy: 0.6471\n",
            "\n",
            "Epoch 00033: val_loss improved from 1.20716 to 1.18079, saving model to model-v1.h5\n",
            "Epoch 34/500\n",
            "3/3 [==============================] - 0s 28ms/step - loss: 0.2161 - accuracy: 0.9891 - val_loss: 1.1568 - val_accuracy: 0.6471\n",
            "\n",
            "Epoch 00034: val_loss improved from 1.18079 to 1.15677, saving model to model-v1.h5\n",
            "Epoch 35/500\n",
            "3/3 [==============================] - 0s 28ms/step - loss: 0.1928 - accuracy: 0.9813 - val_loss: 1.1348 - val_accuracy: 0.6471\n",
            "\n",
            "Epoch 00035: val_loss improved from 1.15677 to 1.13479, saving model to model-v1.h5\n",
            "Epoch 36/500\n",
            "3/3 [==============================] - 0s 28ms/step - loss: 0.1839 - accuracy: 0.9813 - val_loss: 1.1113 - val_accuracy: 0.7059\n",
            "\n",
            "Epoch 00036: val_loss improved from 1.13479 to 1.11133, saving model to model-v1.h5\n",
            "Epoch 37/500\n",
            "3/3 [==============================] - 0s 29ms/step - loss: 0.1698 - accuracy: 0.9813 - val_loss: 1.0915 - val_accuracy: 0.7059\n",
            "\n",
            "Epoch 00037: val_loss improved from 1.11133 to 1.09150, saving model to model-v1.h5\n",
            "Epoch 38/500\n",
            "3/3 [==============================] - 0s 34ms/step - loss: 0.1375 - accuracy: 0.9891 - val_loss: 1.0757 - val_accuracy: 0.7059\n",
            "\n",
            "Epoch 00038: val_loss improved from 1.09150 to 1.07570, saving model to model-v1.h5\n",
            "Epoch 39/500\n",
            "3/3 [==============================] - 0s 28ms/step - loss: 0.1194 - accuracy: 0.9891 - val_loss: 1.0601 - val_accuracy: 0.7059\n",
            "\n",
            "Epoch 00039: val_loss improved from 1.07570 to 1.06011, saving model to model-v1.h5\n",
            "Epoch 40/500\n",
            "3/3 [==============================] - 0s 37ms/step - loss: 0.1378 - accuracy: 0.9813 - val_loss: 1.0417 - val_accuracy: 0.7059\n",
            "\n",
            "Epoch 00040: val_loss improved from 1.06011 to 1.04165, saving model to model-v1.h5\n",
            "Epoch 41/500\n",
            "3/3 [==============================] - 0s 30ms/step - loss: 0.1268 - accuracy: 0.9813 - val_loss: 1.0256 - val_accuracy: 0.7059\n",
            "\n",
            "Epoch 00041: val_loss improved from 1.04165 to 1.02558, saving model to model-v1.h5\n",
            "Epoch 42/500\n",
            "3/3 [==============================] - 0s 29ms/step - loss: 0.0983 - accuracy: 0.9891 - val_loss: 1.0107 - val_accuracy: 0.7059\n",
            "\n",
            "Epoch 00042: val_loss improved from 1.02558 to 1.01070, saving model to model-v1.h5\n",
            "Epoch 43/500\n",
            "3/3 [==============================] - 0s 31ms/step - loss: 0.0873 - accuracy: 0.9931 - val_loss: 0.9960 - val_accuracy: 0.7059\n",
            "\n",
            "Epoch 00043: val_loss improved from 1.01070 to 0.99597, saving model to model-v1.h5\n",
            "Epoch 44/500\n",
            "3/3 [==============================] - 0s 30ms/step - loss: 0.0896 - accuracy: 0.9891 - val_loss: 0.9825 - val_accuracy: 0.7059\n",
            "\n",
            "Epoch 00044: val_loss improved from 0.99597 to 0.98251, saving model to model-v1.h5\n",
            "Epoch 45/500\n",
            "3/3 [==============================] - 0s 31ms/step - loss: 0.0832 - accuracy: 0.9891 - val_loss: 0.9711 - val_accuracy: 0.7059\n",
            "\n",
            "Epoch 00045: val_loss improved from 0.98251 to 0.97111, saving model to model-v1.h5\n",
            "Epoch 46/500\n",
            "3/3 [==============================] - 0s 30ms/step - loss: 0.1050 - accuracy: 0.9813 - val_loss: 0.9611 - val_accuracy: 0.7059\n",
            "\n",
            "Epoch 00046: val_loss improved from 0.97111 to 0.96109, saving model to model-v1.h5\n",
            "Epoch 47/500\n",
            "3/3 [==============================] - 0s 35ms/step - loss: 0.0698 - accuracy: 0.9931 - val_loss: 0.9512 - val_accuracy: 0.7059\n",
            "\n",
            "Epoch 00047: val_loss improved from 0.96109 to 0.95122, saving model to model-v1.h5\n",
            "Epoch 48/500\n",
            "3/3 [==============================] - 0s 29ms/step - loss: 0.0712 - accuracy: 0.9891 - val_loss: 0.9417 - val_accuracy: 0.7059\n",
            "\n",
            "Epoch 00048: val_loss improved from 0.95122 to 0.94166, saving model to model-v1.h5\n",
            "Epoch 49/500\n",
            "3/3 [==============================] - 0s 27ms/step - loss: 0.0904 - accuracy: 0.9813 - val_loss: 0.9342 - val_accuracy: 0.7059\n",
            "\n",
            "Epoch 00049: val_loss improved from 0.94166 to 0.93423, saving model to model-v1.h5\n",
            "Epoch 50/500\n",
            "3/3 [==============================] - 0s 34ms/step - loss: 0.0653 - accuracy: 0.9891 - val_loss: 0.9273 - val_accuracy: 0.7059\n",
            "\n",
            "Epoch 00050: val_loss improved from 0.93423 to 0.92734, saving model to model-v1.h5\n",
            "Epoch 51/500\n",
            "3/3 [==============================] - 0s 29ms/step - loss: 0.0799 - accuracy: 0.9813 - val_loss: 0.9202 - val_accuracy: 0.7059\n",
            "\n",
            "Epoch 00051: val_loss improved from 0.92734 to 0.92020, saving model to model-v1.h5\n",
            "Epoch 52/500\n",
            "3/3 [==============================] - 0s 29ms/step - loss: 0.0594 - accuracy: 0.9891 - val_loss: 0.9132 - val_accuracy: 0.7059\n",
            "\n",
            "Epoch 00052: val_loss improved from 0.92020 to 0.91318, saving model to model-v1.h5\n",
            "Epoch 53/500\n",
            "3/3 [==============================] - 0s 38ms/step - loss: 0.0585 - accuracy: 0.9891 - val_loss: 0.9040 - val_accuracy: 0.7059\n",
            "\n",
            "Epoch 00053: val_loss improved from 0.91318 to 0.90402, saving model to model-v1.h5\n",
            "Epoch 54/500\n",
            "3/3 [==============================] - 0s 34ms/step - loss: 0.0561 - accuracy: 0.9891 - val_loss: 0.8955 - val_accuracy: 0.7059\n",
            "\n",
            "Epoch 00054: val_loss improved from 0.90402 to 0.89550, saving model to model-v1.h5\n",
            "Epoch 55/500\n",
            "3/3 [==============================] - 0s 31ms/step - loss: 0.0544 - accuracy: 0.9891 - val_loss: 0.8877 - val_accuracy: 0.7059\n",
            "\n",
            "Epoch 00055: val_loss improved from 0.89550 to 0.88775, saving model to model-v1.h5\n",
            "Epoch 56/500\n",
            "3/3 [==============================] - 0s 32ms/step - loss: 0.0435 - accuracy: 0.9931 - val_loss: 0.8812 - val_accuracy: 0.7059\n",
            "\n",
            "Epoch 00056: val_loss improved from 0.88775 to 0.88123, saving model to model-v1.h5\n",
            "Epoch 57/500\n",
            "3/3 [==============================] - 0s 29ms/step - loss: 0.0666 - accuracy: 0.9813 - val_loss: 0.8722 - val_accuracy: 0.7059\n",
            "\n",
            "Epoch 00057: val_loss improved from 0.88123 to 0.87221, saving model to model-v1.h5\n",
            "Epoch 58/500\n",
            "3/3 [==============================] - 0s 32ms/step - loss: 0.0464 - accuracy: 0.9891 - val_loss: 0.8648 - val_accuracy: 0.7059\n",
            "\n",
            "Epoch 00058: val_loss improved from 0.87221 to 0.86483, saving model to model-v1.h5\n",
            "Epoch 59/500\n",
            "3/3 [==============================] - 0s 31ms/step - loss: 0.0600 - accuracy: 0.9813 - val_loss: 0.8583 - val_accuracy: 0.7059\n",
            "\n",
            "Epoch 00059: val_loss improved from 0.86483 to 0.85825, saving model to model-v1.h5\n",
            "Epoch 60/500\n",
            "3/3 [==============================] - 0s 30ms/step - loss: 0.0604 - accuracy: 0.9813 - val_loss: 0.8515 - val_accuracy: 0.7059\n",
            "\n",
            "Epoch 00060: val_loss improved from 0.85825 to 0.85150, saving model to model-v1.h5\n",
            "Epoch 61/500\n",
            "3/3 [==============================] - 0s 28ms/step - loss: 0.0563 - accuracy: 0.9813 - val_loss: 0.8451 - val_accuracy: 0.7059\n",
            "\n",
            "Epoch 00061: val_loss improved from 0.85150 to 0.84506, saving model to model-v1.h5\n",
            "Epoch 62/500\n",
            "3/3 [==============================] - 0s 29ms/step - loss: 0.0548 - accuracy: 0.9813 - val_loss: 0.8396 - val_accuracy: 0.7059\n",
            "\n",
            "Epoch 00062: val_loss improved from 0.84506 to 0.83962, saving model to model-v1.h5\n",
            "Epoch 63/500\n",
            "3/3 [==============================] - 0s 30ms/step - loss: 0.0411 - accuracy: 0.9891 - val_loss: 0.8346 - val_accuracy: 0.7059\n",
            "\n",
            "Epoch 00063: val_loss improved from 0.83962 to 0.83462, saving model to model-v1.h5\n",
            "Epoch 64/500\n",
            "3/3 [==============================] - 0s 28ms/step - loss: 0.0523 - accuracy: 0.9813 - val_loss: 0.8300 - val_accuracy: 0.7059\n",
            "\n",
            "Epoch 00064: val_loss improved from 0.83462 to 0.82997, saving model to model-v1.h5\n",
            "Epoch 65/500\n",
            "3/3 [==============================] - 0s 33ms/step - loss: 0.0496 - accuracy: 0.9813 - val_loss: 0.8254 - val_accuracy: 0.7059\n",
            "\n",
            "Epoch 00065: val_loss improved from 0.82997 to 0.82542, saving model to model-v1.h5\n",
            "Epoch 66/500\n",
            "3/3 [==============================] - 0s 32ms/step - loss: 0.0490 - accuracy: 0.9813 - val_loss: 0.8200 - val_accuracy: 0.7059\n",
            "\n",
            "Epoch 00066: val_loss improved from 0.82542 to 0.81995, saving model to model-v1.h5\n",
            "Epoch 67/500\n",
            "3/3 [==============================] - 0s 30ms/step - loss: 0.0471 - accuracy: 0.9813 - val_loss: 0.8139 - val_accuracy: 0.7059\n",
            "\n",
            "Epoch 00067: val_loss improved from 0.81995 to 0.81394, saving model to model-v1.h5\n",
            "Epoch 68/500\n",
            "3/3 [==============================] - 0s 30ms/step - loss: 0.0339 - accuracy: 0.9891 - val_loss: 0.8090 - val_accuracy: 0.7647\n",
            "\n",
            "Epoch 00068: val_loss improved from 0.81394 to 0.80899, saving model to model-v1.h5\n",
            "Epoch 69/500\n",
            "3/3 [==============================] - 0s 32ms/step - loss: 0.0441 - accuracy: 1.0000 - val_loss: 0.8034 - val_accuracy: 0.7647\n",
            "\n",
            "Epoch 00069: val_loss improved from 0.80899 to 0.80340, saving model to model-v1.h5\n",
            "Epoch 70/500\n",
            "3/3 [==============================] - 0s 30ms/step - loss: 0.0256 - accuracy: 1.0000 - val_loss: 0.7984 - val_accuracy: 0.7647\n",
            "\n",
            "Epoch 00070: val_loss improved from 0.80340 to 0.79843, saving model to model-v1.h5\n",
            "Epoch 71/500\n",
            "3/3 [==============================] - 0s 32ms/step - loss: 0.0301 - accuracy: 1.0000 - val_loss: 0.7930 - val_accuracy: 0.7647\n",
            "\n",
            "Epoch 00071: val_loss improved from 0.79843 to 0.79297, saving model to model-v1.h5\n",
            "Epoch 72/500\n",
            "3/3 [==============================] - 0s 32ms/step - loss: 0.0292 - accuracy: 1.0000 - val_loss: 0.7886 - val_accuracy: 0.7647\n",
            "\n",
            "Epoch 00072: val_loss improved from 0.79297 to 0.78865, saving model to model-v1.h5\n",
            "Epoch 73/500\n",
            "3/3 [==============================] - 0s 33ms/step - loss: 0.0281 - accuracy: 1.0000 - val_loss: 0.7854 - val_accuracy: 0.7647\n",
            "\n",
            "Epoch 00073: val_loss improved from 0.78865 to 0.78539, saving model to model-v1.h5\n",
            "Epoch 74/500\n",
            "3/3 [==============================] - 0s 31ms/step - loss: 0.0272 - accuracy: 1.0000 - val_loss: 0.7822 - val_accuracy: 0.7647\n",
            "\n",
            "Epoch 00074: val_loss improved from 0.78539 to 0.78222, saving model to model-v1.h5\n",
            "Epoch 75/500\n",
            "3/3 [==============================] - 0s 29ms/step - loss: 0.0340 - accuracy: 1.0000 - val_loss: 0.7790 - val_accuracy: 0.7647\n",
            "\n",
            "Epoch 00075: val_loss improved from 0.78222 to 0.77895, saving model to model-v1.h5\n",
            "Epoch 76/500\n",
            "3/3 [==============================] - 0s 31ms/step - loss: 0.0328 - accuracy: 1.0000 - val_loss: 0.7761 - val_accuracy: 0.7647\n",
            "\n",
            "Epoch 00076: val_loss improved from 0.77895 to 0.77606, saving model to model-v1.h5\n",
            "Epoch 77/500\n",
            "3/3 [==============================] - 0s 33ms/step - loss: 0.0239 - accuracy: 1.0000 - val_loss: 0.7736 - val_accuracy: 0.7647\n",
            "\n",
            "Epoch 00077: val_loss improved from 0.77606 to 0.77358, saving model to model-v1.h5\n",
            "Epoch 78/500\n",
            "3/3 [==============================] - 0s 31ms/step - loss: 0.0296 - accuracy: 1.0000 - val_loss: 0.7716 - val_accuracy: 0.7647\n",
            "\n",
            "Epoch 00078: val_loss improved from 0.77358 to 0.77161, saving model to model-v1.h5\n",
            "Epoch 79/500\n",
            "3/3 [==============================] - 0s 33ms/step - loss: 0.0222 - accuracy: 1.0000 - val_loss: 0.7696 - val_accuracy: 0.7647\n",
            "\n",
            "Epoch 00079: val_loss improved from 0.77161 to 0.76959, saving model to model-v1.h5\n",
            "Epoch 80/500\n",
            "3/3 [==============================] - 0s 32ms/step - loss: 0.0281 - accuracy: 1.0000 - val_loss: 0.7678 - val_accuracy: 0.7647\n",
            "\n",
            "Epoch 00080: val_loss improved from 0.76959 to 0.76776, saving model to model-v1.h5\n",
            "Epoch 81/500\n",
            "3/3 [==============================] - 0s 28ms/step - loss: 0.0267 - accuracy: 1.0000 - val_loss: 0.7657 - val_accuracy: 0.7647\n",
            "\n",
            "Epoch 00081: val_loss improved from 0.76776 to 0.76569, saving model to model-v1.h5\n",
            "Epoch 82/500\n",
            "3/3 [==============================] - 0s 30ms/step - loss: 0.0248 - accuracy: 1.0000 - val_loss: 0.7634 - val_accuracy: 0.7647\n",
            "\n",
            "Epoch 00082: val_loss improved from 0.76569 to 0.76343, saving model to model-v1.h5\n",
            "Epoch 83/500\n",
            "3/3 [==============================] - 0s 30ms/step - loss: 0.0193 - accuracy: 1.0000 - val_loss: 0.7611 - val_accuracy: 0.7647\n",
            "\n",
            "Epoch 00083: val_loss improved from 0.76343 to 0.76112, saving model to model-v1.h5\n",
            "Epoch 84/500\n",
            "3/3 [==============================] - 0s 31ms/step - loss: 0.0234 - accuracy: 1.0000 - val_loss: 0.7591 - val_accuracy: 0.7647\n",
            "\n",
            "Epoch 00084: val_loss improved from 0.76112 to 0.75911, saving model to model-v1.h5\n",
            "Epoch 85/500\n",
            "3/3 [==============================] - 0s 40ms/step - loss: 0.0183 - accuracy: 1.0000 - val_loss: 0.7566 - val_accuracy: 0.7647\n",
            "\n",
            "Epoch 00085: val_loss improved from 0.75911 to 0.75664, saving model to model-v1.h5\n",
            "Epoch 86/500\n",
            "3/3 [==============================] - 0s 30ms/step - loss: 0.0173 - accuracy: 1.0000 - val_loss: 0.7534 - val_accuracy: 0.7647\n",
            "\n",
            "Epoch 00086: val_loss improved from 0.75664 to 0.75337, saving model to model-v1.h5\n",
            "Epoch 87/500\n",
            "3/3 [==============================] - 0s 30ms/step - loss: 0.0211 - accuracy: 1.0000 - val_loss: 0.7502 - val_accuracy: 0.7647\n",
            "\n",
            "Epoch 00087: val_loss improved from 0.75337 to 0.75020, saving model to model-v1.h5\n",
            "Epoch 88/500\n",
            "3/3 [==============================] - 0s 31ms/step - loss: 0.0167 - accuracy: 1.0000 - val_loss: 0.7480 - val_accuracy: 0.7647\n",
            "\n",
            "Epoch 00088: val_loss improved from 0.75020 to 0.74795, saving model to model-v1.h5\n",
            "Epoch 89/500\n",
            "3/3 [==============================] - 0s 31ms/step - loss: 0.0196 - accuracy: 1.0000 - val_loss: 0.7456 - val_accuracy: 0.7647\n",
            "\n",
            "Epoch 00089: val_loss improved from 0.74795 to 0.74564, saving model to model-v1.h5\n",
            "Epoch 90/500\n",
            "3/3 [==============================] - 0s 30ms/step - loss: 0.0151 - accuracy: 1.0000 - val_loss: 0.7431 - val_accuracy: 0.7647\n",
            "\n",
            "Epoch 00090: val_loss improved from 0.74564 to 0.74307, saving model to model-v1.h5\n",
            "Epoch 91/500\n",
            "3/3 [==============================] - 0s 29ms/step - loss: 0.0184 - accuracy: 1.0000 - val_loss: 0.7408 - val_accuracy: 0.7647\n",
            "\n",
            "Epoch 00091: val_loss improved from 0.74307 to 0.74079, saving model to model-v1.h5\n",
            "Epoch 92/500\n",
            "3/3 [==============================] - 0s 31ms/step - loss: 0.0177 - accuracy: 1.0000 - val_loss: 0.7382 - val_accuracy: 0.7647\n",
            "\n",
            "Epoch 00092: val_loss improved from 0.74079 to 0.73822, saving model to model-v1.h5\n",
            "Epoch 93/500\n",
            "3/3 [==============================] - 0s 31ms/step - loss: 0.0174 - accuracy: 1.0000 - val_loss: 0.7349 - val_accuracy: 0.7647\n",
            "\n",
            "Epoch 00093: val_loss improved from 0.73822 to 0.73490, saving model to model-v1.h5\n",
            "Epoch 94/500\n",
            "3/3 [==============================] - 0s 31ms/step - loss: 0.0120 - accuracy: 1.0000 - val_loss: 0.7324 - val_accuracy: 0.7647\n",
            "\n",
            "Epoch 00094: val_loss improved from 0.73490 to 0.73240, saving model to model-v1.h5\n",
            "Epoch 95/500\n",
            "3/3 [==============================] - 0s 30ms/step - loss: 0.0167 - accuracy: 1.0000 - val_loss: 0.7312 - val_accuracy: 0.7647\n",
            "\n",
            "Epoch 00095: val_loss improved from 0.73240 to 0.73120, saving model to model-v1.h5\n",
            "Epoch 96/500\n",
            "3/3 [==============================] - 0s 32ms/step - loss: 0.0125 - accuracy: 1.0000 - val_loss: 0.7314 - val_accuracy: 0.7647\n",
            "\n",
            "Epoch 00096: val_loss did not improve from 0.73120\n",
            "Epoch 97/500\n",
            "3/3 [==============================] - 0s 31ms/step - loss: 0.0148 - accuracy: 1.0000 - val_loss: 0.7320 - val_accuracy: 0.7647\n",
            "\n",
            "Epoch 00097: val_loss did not improve from 0.73120\n",
            "Epoch 98/500\n",
            "3/3 [==============================] - 0s 31ms/step - loss: 0.0139 - accuracy: 1.0000 - val_loss: 0.7320 - val_accuracy: 0.7647\n",
            "\n",
            "Epoch 00098: val_loss did not improve from 0.73120\n",
            "\n",
            "Epoch 00098: ReduceLROnPlateau reducing learning rate to 0.00020000000949949026.\n",
            "Epoch 99/500\n",
            "3/3 [==============================] - 0s 29ms/step - loss: 0.0117 - accuracy: 1.0000 - val_loss: 0.7319 - val_accuracy: 0.7647\n",
            "\n",
            "Epoch 00099: val_loss did not improve from 0.73120\n",
            "Epoch 100/500\n",
            "3/3 [==============================] - 0s 32ms/step - loss: 0.0140 - accuracy: 1.0000 - val_loss: 0.7318 - val_accuracy: 0.7647\n",
            "\n",
            "Epoch 00100: val_loss did not improve from 0.73120\n",
            "Epoch 101/500\n",
            "3/3 [==============================] - 0s 36ms/step - loss: 0.0118 - accuracy: 1.0000 - val_loss: 0.7317 - val_accuracy: 0.7647\n",
            "\n",
            "Epoch 00101: val_loss did not improve from 0.73120\n",
            "\n",
            "Epoch 00101: ReduceLROnPlateau reducing learning rate to 4.0000001899898055e-05.\n",
            "Epoch 102/500\n",
            "3/3 [==============================] - 0s 30ms/step - loss: 0.0114 - accuracy: 1.0000 - val_loss: 0.7316 - val_accuracy: 0.7647\n",
            "\n",
            "Epoch 00102: val_loss did not improve from 0.73120\n",
            "Epoch 103/500\n",
            "3/3 [==============================] - 0s 30ms/step - loss: 0.0135 - accuracy: 1.0000 - val_loss: 0.7315 - val_accuracy: 0.7647\n",
            "\n",
            "Epoch 00103: val_loss did not improve from 0.73120\n",
            "Epoch 104/500\n",
            "3/3 [==============================] - 0s 30ms/step - loss: 0.0114 - accuracy: 1.0000 - val_loss: 0.7314 - val_accuracy: 0.7647\n",
            "\n",
            "Epoch 00104: val_loss did not improve from 0.73120\n",
            "\n",
            "Epoch 00104: ReduceLROnPlateau reducing learning rate to 8.000000525498762e-06.\n",
            "Epoch 105/500\n",
            "3/3 [==============================] - 0s 33ms/step - loss: 0.0134 - accuracy: 1.0000 - val_loss: 0.7314 - val_accuracy: 0.7647\n",
            "\n",
            "Epoch 00105: val_loss did not improve from 0.73120\n"
          ],
          "name": "stdout"
        }
      ]
    },
    {
      "cell_type": "code",
      "metadata": {
        "id": "7XQA67phOL8S"
      },
      "source": [
        ""
      ],
      "execution_count": null,
      "outputs": []
    },
    {
      "cell_type": "code",
      "metadata": {
        "id": "IPszZwAzOL8S",
        "colab": {
          "base_uri": "https://localhost:8080/",
          "height": 238
        },
        "outputId": "adaf7179-41a2-459d-950e-fbef55037a67"
      },
      "source": [
        "#acc = history.history['acc']\n",
        "val_acc = history.history['val_acc']\n",
        "loss=history.history['loss']\n",
        "val_loss=history.history['val_loss']\n",
        "\n",
        "plt.figure(figsize=(16,8))\n",
        "plt.subplot(1, 2, 1)\n",
        "plt.plot(acc, label='Training Accuracy')\n",
        "plt.plot(val_acc, label='Validation Accuracy')\n",
        "plt.legend(loc='lower right')\n",
        "plt.title('Training and Validation Accuracy')\n",
        "\n",
        "plt.subplot(1, 2, 2)\n",
        "plt.plot(loss, label='Training Loss')\n",
        "plt.plot(val_loss, label='Validation Loss')\n",
        "plt.legend(loc='upper right')\n",
        "plt.title('Training and Validation Loss')\n",
        "plt.show()"
      ],
      "execution_count": 60,
      "outputs": [
        {
          "output_type": "error",
          "ename": "KeyError",
          "evalue": "ignored",
          "traceback": [
            "\u001b[0;31m---------------------------------------------------------------------------\u001b[0m",
            "\u001b[0;31mKeyError\u001b[0m                                  Traceback (most recent call last)",
            "\u001b[0;32m<ipython-input-60-6a99e57ae424>\u001b[0m in \u001b[0;36m<module>\u001b[0;34m()\u001b[0m\n\u001b[1;32m      1\u001b[0m \u001b[0;31m#acc = history.history['acc']\u001b[0m\u001b[0;34m\u001b[0m\u001b[0;34m\u001b[0m\u001b[0;34m\u001b[0m\u001b[0m\n\u001b[0;32m----> 2\u001b[0;31m \u001b[0mval_acc\u001b[0m \u001b[0;34m=\u001b[0m \u001b[0mhistory\u001b[0m\u001b[0;34m.\u001b[0m\u001b[0mhistory\u001b[0m\u001b[0;34m[\u001b[0m\u001b[0;34m'val_acc'\u001b[0m\u001b[0;34m]\u001b[0m\u001b[0;34m\u001b[0m\u001b[0;34m\u001b[0m\u001b[0m\n\u001b[0m\u001b[1;32m      3\u001b[0m \u001b[0mloss\u001b[0m\u001b[0;34m=\u001b[0m\u001b[0mhistory\u001b[0m\u001b[0;34m.\u001b[0m\u001b[0mhistory\u001b[0m\u001b[0;34m[\u001b[0m\u001b[0;34m'loss'\u001b[0m\u001b[0;34m]\u001b[0m\u001b[0;34m\u001b[0m\u001b[0;34m\u001b[0m\u001b[0m\n\u001b[1;32m      4\u001b[0m \u001b[0mval_loss\u001b[0m\u001b[0;34m=\u001b[0m\u001b[0mhistory\u001b[0m\u001b[0;34m.\u001b[0m\u001b[0mhistory\u001b[0m\u001b[0;34m[\u001b[0m\u001b[0;34m'val_loss'\u001b[0m\u001b[0;34m]\u001b[0m\u001b[0;34m\u001b[0m\u001b[0;34m\u001b[0m\u001b[0m\n\u001b[1;32m      5\u001b[0m \u001b[0;34m\u001b[0m\u001b[0m\n",
            "\u001b[0;31mKeyError\u001b[0m: 'val_acc'"
          ]
        }
      ]
    },
    {
      "cell_type": "code",
      "metadata": {
        "id": "QhCj76XMOL8S",
        "colab": {
          "base_uri": "https://localhost:8080/"
        },
        "outputId": "0b7b6dec-dd97-44c7-bd70-12fee8e660ed"
      },
      "source": [
        "[np.argmax(i) for i in model.predict(X_test)][:10]"
      ],
      "execution_count": 58,
      "outputs": [
        {
          "output_type": "execute_result",
          "data": {
            "text/plain": [
              "[0, 2, 1, 11, 5, 6, 15, 8, 9, 10]"
            ]
          },
          "metadata": {
            "tags": []
          },
          "execution_count": 58
        }
      ]
    },
    {
      "cell_type": "code",
      "metadata": {
        "id": "OlKBrsOwOL8U",
        "colab": {
          "base_uri": "https://localhost:8080/"
        },
        "outputId": "b0fbc395-8945-4213-82a1-1fa665ca0e73"
      },
      "source": [
        "[np.argmax(i) for i in y_test][:10]"
      ],
      "execution_count": 59,
      "outputs": [
        {
          "output_type": "execute_result",
          "data": {
            "text/plain": [
              "[0, 2, 3, 4, 5, 6, 7, 8, 9, 10]"
            ]
          },
          "metadata": {
            "tags": []
          },
          "execution_count": 59
        }
      ]
    },
    {
      "cell_type": "code",
      "metadata": {
        "id": "wI702gjGOL8U"
      },
      "source": [
        ""
      ],
      "execution_count": null,
      "outputs": []
    },
    {
      "cell_type": "markdown",
      "metadata": {
        "id": "U-Fc1B9oOL8X"
      },
      "source": [
        "## New user question encoding"
      ]
    },
    {
      "cell_type": "code",
      "metadata": {
        "id": "dRIc2DYpOL8Z"
      },
      "source": [
        "def get_text():\n",
        "    input_text  = ['what are you']\n",
        "    df_input = pd.DataFrame(input_text,columns=['questions'])\n",
        "    df_input\n",
        "    return df_input "
      ],
      "execution_count": null,
      "outputs": []
    },
    {
      "cell_type": "code",
      "metadata": {
        "id": "jgVEGaXQOL8a"
      },
      "source": [
        "#load artifacts \n",
        "from tensorflow.keras.models import load_model\n",
        "model = load_model('model-v1.h5')\n",
        "tokenizer_t = joblib.load('tokenizer_t.pkl')\n",
        "vocab = joblib.load('vocab.pkl')"
      ],
      "execution_count": null,
      "outputs": []
    },
    {
      "cell_type": "code",
      "metadata": {
        "id": "b1L883raOL8b"
      },
      "source": [
        "def tokenizer(entry):\n",
        "    tokens = entry.split()\n",
        "    re_punc = re.compile('[%s]' % re.escape(string.punctuation))\n",
        "    tokens = [re_punc.sub('', w) for w in tokens]\n",
        "    tokens = [word for word in tokens if word.isalpha()]\n",
        "    tokens = [lemmatizer.lemmatize(w.lower()) for w in tokens]\n",
        "#     stop_words = set(stopwords.words('english'))\n",
        "#     tokens = [w for w in tokens if not w in stop_words]\n",
        "    tokens = [word.lower() for word in tokens if len(word) > 1]\n",
        "    return tokens"
      ],
      "execution_count": null,
      "outputs": []
    },
    {
      "cell_type": "code",
      "metadata": {
        "id": "zvVuTXH6OL8b"
      },
      "source": [
        "def remove_stop_words_for_input(tokenizer,df,feature):\n",
        "    doc_without_stopwords = []\n",
        "    entry = df[feature][0]\n",
        "    tokens = tokenizer(entry)\n",
        "    doc_without_stopwords.append(' '.join(tokens))\n",
        "    df[feature] = doc_without_stopwords\n",
        "    return df"
      ],
      "execution_count": null,
      "outputs": []
    },
    {
      "cell_type": "code",
      "metadata": {
        "id": "jK0f_bfuOL8b"
      },
      "source": [
        "# df_input = remove_stop_words_for_input(tokenizer,df_input,'questions')\n",
        "# df_input"
      ],
      "execution_count": null,
      "outputs": []
    },
    {
      "cell_type": "code",
      "metadata": {
        "id": "00C82fRfOL8b"
      },
      "source": [
        "def encode_input_text(tokenizer_t,df,feature):\n",
        "    t = tokenizer_t\n",
        "    entry = entry = [df[feature][0]]\n",
        "    encoded = t.texts_to_sequences(entry)\n",
        "    padded = pad_sequences(encoded, maxlen=16, padding='post')\n",
        "    return padded"
      ],
      "execution_count": null,
      "outputs": []
    },
    {
      "cell_type": "code",
      "metadata": {
        "id": "Zjok5b-DOL8c"
      },
      "source": [
        "# encoded_input = encode_input_text(tokenizer_t,df_input,'questions')\n",
        "# encoded_input.shape"
      ],
      "execution_count": null,
      "outputs": []
    },
    {
      "cell_type": "code",
      "metadata": {
        "id": "8qLysgCvOL8c"
      },
      "source": [
        "# encoded_input"
      ],
      "execution_count": null,
      "outputs": []
    },
    {
      "cell_type": "code",
      "metadata": {
        "id": "cOaIt_xTOL8c"
      },
      "source": [
        "def get_pred(model,encoded_input):\n",
        "    pred = np.argmax(model.predict(encoded_input))\n",
        "    return pred"
      ],
      "execution_count": null,
      "outputs": []
    },
    {
      "cell_type": "code",
      "metadata": {
        "id": "wskUy-jnOL8c"
      },
      "source": [
        "# mapper"
      ],
      "execution_count": null,
      "outputs": []
    },
    {
      "cell_type": "code",
      "metadata": {
        "id": "iCY9w5soOL8c"
      },
      "source": [
        "# df2.head()"
      ],
      "execution_count": null,
      "outputs": []
    },
    {
      "cell_type": "code",
      "metadata": {
        "id": "e_C732u_OL8d"
      },
      "source": [
        "def bot_precausion(df_input,pred):\n",
        "    words = df_input.questions[0].split()\n",
        "    if len([w for w in words if w in vocab])==0 :\n",
        "        pred = 1\n",
        "    return pred"
      ],
      "execution_count": null,
      "outputs": []
    },
    {
      "cell_type": "code",
      "metadata": {
        "id": "ZcY2NIpaOL8d"
      },
      "source": [
        "def get_response(df2,pred):\n",
        "    upper_bound = df2.groupby('labels').get_group(pred).shape[0]\n",
        "    r = np.random.randint(0,upper_bound)\n",
        "    responses = list(df2.groupby('labels').get_group(pred).response)\n",
        "    return responses[r]\n",
        "    "
      ],
      "execution_count": null,
      "outputs": []
    },
    {
      "cell_type": "code",
      "metadata": {
        "id": "c238O7lKOL8e"
      },
      "source": [
        "def bot_response(response,):\n",
        "    print(response)"
      ],
      "execution_count": null,
      "outputs": []
    },
    {
      "cell_type": "code",
      "metadata": {
        "id": "LCT-QbG4OL8e"
      },
      "source": [
        ""
      ],
      "execution_count": null,
      "outputs": []
    },
    {
      "cell_type": "code",
      "metadata": {
        "id": "D04qB7asOL8f",
        "outputId": "35b8b26f-1551-40d9-cd99-985f837f63c6"
      },
      "source": [
        "df_input = get_text()\n",
        "\n",
        "#load artifacts \n",
        "tokenizer_t = joblib.load('tokenizer_t.pkl')\n",
        "vocab = joblib.load('vocab.pkl')\n",
        "\n",
        "df_input = remove_stop_words_for_input(tokenizer,df_input,'questions')\n",
        "encoded_input = encode_input_text(tokenizer_t,df_input,'questions')\n",
        "\n",
        "pred = get_pred(model,encoded_input)\n",
        "pred = bot_precausion(df_input,pred)\n",
        "\n",
        "response = get_response(df2,pred)\n",
        "bot_response(response)"
      ],
      "execution_count": null,
      "outputs": [
        {
          "output_type": "stream",
          "text": [
            "Hi, I'm  BoTennis\n"
          ],
          "name": "stdout"
        }
      ]
    },
    {
      "cell_type": "code",
      "metadata": {
        "id": "GdpUqHTjOL8g"
      },
      "source": [
        ""
      ],
      "execution_count": null,
      "outputs": []
    },
    {
      "cell_type": "code",
      "metadata": {
        "id": "Zhmvn5DnOL8g"
      },
      "source": [
        "import streamlit as st"
      ],
      "execution_count": null,
      "outputs": []
    },
    {
      "cell_type": "code",
      "metadata": {
        "id": "-bET4pzuOL8h"
      },
      "source": [
        "st.image()"
      ],
      "execution_count": null,
      "outputs": []
    }
  ]
}